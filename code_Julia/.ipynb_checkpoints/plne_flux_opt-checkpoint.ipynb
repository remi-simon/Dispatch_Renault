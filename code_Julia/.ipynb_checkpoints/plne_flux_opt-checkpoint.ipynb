{
 "cells": [
  {
   "cell_type": "markdown",
   "metadata": {},
   "source": [
    "Objectif : définir les flux pour tout couple (usine, fournisseur) pour chaque emballage, pour chaque jour \n",
    "A terme, qd on a ces flux, trier les emballages par taille de pile décroissante, puis remplir les camions par numéro d'emballage (heuristique first fit deacreasing)\n",
    "on choisit pour le moment de ne jamais payer d'excedent de stockage (car on n'anticipe pas sur les jours suivants), mais on remplit si capacité stockage max non atteinte\n",
    "\n",
    "soit u, f, e donnés\n",
    "soit y le nombre de pile d'emballage livrée de u à f le jour j => y est la variable de notre problème"
   ]
  },
  {
   "cell_type": "code",
   "execution_count": 2,
   "metadata": {},
   "outputs": [
    {
     "name": "stderr",
     "output_type": "stream",
     "text": [
      "┌ Info: Running `conda install -y -c conda-forge folium` in root environment\n",
      "└ @ Conda C:\\Users\\Remi\\.julia\\packages\\Conda\\x5ml4\\src\\Conda.jl:115\n"
     ]
    },
    {
     "name": "stdout",
     "output_type": "stream",
     "text": [
      "Collecting package metadata (current_repodata.json): ...working... done\n",
      "Solving environment: ...working... done\n",
      "\n",
      "# All requested packages already installed.\n",
      "\n"
     ]
    },
    {
     "data": {
      "text/plain": [
       "33-element Array{String,1}:\n",
       " \"J 3 U 2 F 3 E 2 L 13000 Gamma 1 CCam 100 CStop 10\"\n",
       " \"e 0 l 300\"\n",
       " \"e 1 l 200\"\n",
       " \"u 0 v 0 coor 48.8666672 2.3514623 ce e 0 cr 2 b 4 e 1 cr 4 b 5 lib j 0 e 0 b 5 r 5 e 1 b 0 r 5 j 1 e 0 b 10 r 5 e 1 b 5 r 5 j 2 e 0 b 0 r 5 e 1 b 5 r 5\"\n",
       " \"u 1 v 1 coor 43.6044622 1.4442469 ce e 0 cr 2 b 3 e 1 cr 4 b 6 lib j 0 e 0 b 2 r 5 e 1 b 3 r 5 j 1 e 0 b 2 r 5 e 1 b 3 r 5 j 2 e 0 b 2 r 5 e 1 b 3 r 5\"\n",
       " \"f 0 v 2 coor 48.8666672 2.3514623 ce e 0 cr 2 cexc 55 b 2 e 1 cr 4 cexc 30 b 6 dem j 0 e 0 b 2 r 5 e 1 b 1 r 5 j 1 e 0 b 2 r 5 e 1 b 1 r 5 j 2 e 0 b 2 r 5 e 1 b 1 r 5\"\n",
       " \"f 1 v 3 coor 45.7578137 4.8320114 ce e 0 cr 2 cexc 45 b 4 e 1 cr 4 cexc 40 b 5 dem j 0 e 0 b 0 r 5 e 1 b 2 r 4 j 1 e 0 b 0 r 6 e 1 b 2 r 4 j 2 e 0 b 0 r 3 e 1 b 2 r 4\"\n",
       " \"f 2 v 4 coor 45.7578137 4.8320114 ce e 0 cr 2 cexc 35 b 7 e 1 cr 4 cexc 50 b 4 dem j 0 e 0 b 3 r 5 e 1 b 0 r 5 j 1 e 0 b 3 r 5 e 1 b 0 r 5 j 2 e 0 b 3 r 5 e 1 b 0 r 5\"\n",
       " \"a 0 0 d 0\"\n",
       " \"a 0 1 d 10\"\n",
       " \"a 0 2 d 0\"\n",
       " \"a 0 3 d 8\"\n",
       " \"a 0 4 d 8\"\n",
       " ⋮\n",
       " \"a 2 3 d 8\"\n",
       " \"a 2 4 d 8\"\n",
       " \"a 3 0 d 8\"\n",
       " \"a 3 1 d 5\"\n",
       " \"a 3 2 d 8\"\n",
       " \"a 3 3 d 0\"\n",
       " \"a 3 4 d 0\"\n",
       " \"a 4 0 d 8\"\n",
       " \"a 4 1 d 5\"\n",
       " \"a 4 2 d 8\"\n",
       " \"a 4 3 d 0\"\n",
       " \"a 4 4 d 0\""
      ]
     },
     "execution_count": 2,
     "metadata": {},
     "output_type": "execute_result"
    }
   ],
   "source": [
    "include(\"import_all.jl\")\n",
    "\n",
    "data = open(\"petite.csv\") do file\n",
    "    readlines(file)\n",
    "end"
   ]
  },
  {
   "cell_type": "code",
   "execution_count": 49,
   "metadata": {},
   "outputs": [
    {
     "data": {
      "text/plain": [
       "\n",
       "Graphe pondéré avec 5 sommets et 25 arcs\n",
       "   Distances (5 x 5): [0 10 0 8 8; 10 0 8 5 5; 0 8 0 8 8; 8 5 8 0 0; 8 5 8 0 0]"
      ]
     },
     "execution_count": 49,
     "metadata": {},
     "output_type": "execute_result"
    }
   ],
   "source": [
    "dims = lire_dimensions(data[1])\n",
    "emballages = [lire_emballage(data[1 + e], dims) for e = 1:dims.E]\n",
    "\n",
    "fournisseurs =[lire_fournisseur(data[1 + dims.E + dims.U + f], dims) for f = 1:dims.F]\n",
    "usines = [lire_usine(data[1 + dims.E + u], dims) for u = 1:dims.U]\n",
    "instance = lire_instance(joinpath(\"..\", \"instance\", \"petite.csv\"))\n",
    "graphe = lire_graphe(data[1 + dims.E + dims.U + dims.F + 1:end], dims)"
   ]
  },
  {
   "cell_type": "code",
   "execution_count": 29,
   "metadata": {},
   "outputs": [],
   "source": [
    "using JuMP, GLPK"
   ]
  },
  {
   "cell_type": "markdown",
   "metadata": {},
   "source": [
    "Il ne reste plus qu'à boucler sur les emballages et les jours pour avoir les flux optimisés à travers tout le graphe"
   ]
  }
 ],
 "metadata": {
  "kernelspec": {
   "display_name": "Julia 1.4.1",
   "language": "julia",
   "name": "julia-1.4"
  },
  "language_info": {
   "file_extension": ".jl",
   "mimetype": "application/julia",
   "name": "julia",
   "version": "1.4.1"
  }
 },
 "nbformat": 4,
 "nbformat_minor": 4
}
